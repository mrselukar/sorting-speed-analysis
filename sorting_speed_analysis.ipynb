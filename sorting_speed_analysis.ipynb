{
 "cells": [
  {
   "cell_type": "markdown",
   "metadata": {},
   "source": [
    "##### Project 1: To Plot Execution time of various sorting algorithms for various inputs.  \n",
    "1. Selection Sort\n",
    "2. Insertion Sort\n",
    "3. Merge Sort \n",
    "4. Bubble Sort\n",
    "5. Quick Sort"
   ]
  },
  {
   "cell_type": "code",
   "execution_count": 13,
   "metadata": {
    "collapsed": true
   },
   "outputs": [],
   "source": [
    "import timeit \n",
    "import random\n",
    "import pprint\n",
    "import time\n",
    "import matplotlib.pyplot as plt"
   ]
  },
  {
   "cell_type": "code",
   "execution_count": 14,
   "metadata": {
    "collapsed": true
   },
   "outputs": [],
   "source": [
    "min = int(-100000)\n",
    "max = int(100000)\n",
    "data_random = []\n",
    "data_accending = []\n",
    "data_decending = []"
   ]
  },
  {
   "cell_type": "code",
   "execution_count": 15,
   "metadata": {
    "collapsed": true
   },
   "outputs": [],
   "source": [
    "data_random.clear()\n",
    "for x in range(10): \n",
    "    data_random.append(int(random.randint(min,max)))\n",
    "data_accending = sorted(data_random)\n",
    "data_decending = sorted(data_random,reverse = True)"
   ]
  },
  {
   "cell_type": "code",
   "execution_count": 16,
   "metadata": {
    "collapsed": true
   },
   "outputs": [],
   "source": [
    "def selection_sort(data):\n",
    "    length = len(data)\n",
    "    for i in range (0,len(data)):\n",
    "        max_index = 0\n",
    "        for j in range(i,(length - i - 1)):\n",
    "            if data[j] > data[max_index]:\n",
    "                max_index = j\n",
    "                \n",
    "        data[-i-1],data[max_index] = data[max_index],data[-i-1]\n",
    "    return data"
   ]
  },
  {
   "cell_type": "code",
   "execution_count": 17,
   "metadata": {},
   "outputs": [
    {
     "name": "stdout",
     "output_type": "stream",
     "text": [
      "[-70031, 16612, -32240, -46766, -51405, -10516, 13867, 44563, 53154, 56109]\n"
     ]
    }
   ],
   "source": [
    "print (selection_sort(data_random))"
   ]
  },
  {
   "cell_type": "code",
   "execution_count": 18,
   "metadata": {
    "collapsed": true
   },
   "outputs": [],
   "source": [
    "def bubble_sort(data):\n",
    "    length = len(data)\n",
    "    for i in range (0,length):\n",
    "        for j in range(0,(length - i - 1)):\n",
    "            if data[j] > data[j+1]:\n",
    "                data[j],data[j+1] = data[j+1],data[j]\n",
    "    return (data)"
   ]
  },
  {
   "cell_type": "code",
   "execution_count": 19,
   "metadata": {},
   "outputs": [
    {
     "name": "stdout",
     "output_type": "stream",
     "text": [
      "[-70031, -51405, -46766, -32240, -10516, 13867, 16612, 44563, 53154, 56109]\n"
     ]
    }
   ],
   "source": [
    "print(bubble_sort(data_random))"
   ]
  },
  {
   "cell_type": "markdown",
   "metadata": {},
   "source": [
    "\"\"\"\n",
    "def insertion_sort(data):\n",
    "    length = len(data)\n",
    "    for i in range(1,length):\n",
    "        index = i+1\n",
    "        for j in range (0,i):\n",
    "\"\"\"            "
   ]
  },
  {
   "cell_type": "code",
   "execution_count": 20,
   "metadata": {
    "collapsed": true
   },
   "outputs": [],
   "source": [
    "def modified_bubble_sort(data):\n",
    "    length = len(data)\n",
    "    is_sorted = False\n",
    "    for i in range (0,length):\n",
    "        if is_sorted:\n",
    "            break\n",
    "        is_sorted = True\n",
    "        for j in range(0,(length - i - 1)):\n",
    "            if data[j] > data[j+1]:\n",
    "                is_sorted = False\n",
    "                data[j],data[j+1] = data[j+1],data[j]\n",
    "    return (data)"
   ]
  },
  {
   "cell_type": "code",
   "execution_count": 21,
   "metadata": {},
   "outputs": [
    {
     "name": "stdout",
     "output_type": "stream",
     "text": [
      "[-70031, -51405, -46766, -32240, -10516, 13867, 16612, 44563, 53154, 56109]\n"
     ]
    }
   ],
   "source": [
    "print(modified_bubble_sort(data_random))"
   ]
  },
  {
   "cell_type": "code",
   "execution_count": 22,
   "metadata": {},
   "outputs": [
    {
     "data": {
      "image/png": "[encoded data removed]",
      "text/plain": [
       "<matplotlib.figure.Figure at 0x7f8ce48f2b38>"
      ]
     },
     "metadata": {},
     "output_type": "display_data"
    }
   ],
   "source": [
    "x = [1,2,3,4,5] \n",
    "y = [-3,7,5,9,11]\n",
    "plt.plot(x,y,color=\"c\")\n",
    "plt.show()"
   ]
  },
  {
   "cell_type": "code",
   "execution_count": 23,
   "metadata": {
    "collapsed": true
   },
   "outputs": [],
   "source": [
    "def time_sorting_algo():\n",
    "    \"\"\"\n",
    "        This functions measures the runtimes of various sorting algorithms\n",
    "        using the time.time() function and returns them in a dictionary\n",
    "        The algorithms under consideration are mentioned above \n",
    "    \"\"\"\n",
    "    start = timecode()\n",
    "    "
   ]
  },
  {
   "cell_type": "code",
   "execution_count": null,
   "metadata": {},
   "outputs": [],
   "source": []
  }
 ],
 "metadata": {
  "kernelspec": {
   "display_name": "Python 3",
   "language": "python",
   "name": "python3"
  },
  "language_info": {
   "codemirror_mode": {
    "name": "ipython",
    "version": 3
   },
   "file_extension": ".py",
   "mimetype": "text/x-python",
   "name": "python",
   "nbconvert_exporter": "python",
   "pygments_lexer": "ipython3",
   "version": "3.6.3"
  }
 },
 "nbformat": 4,
 "nbformat_minor": 2
}
